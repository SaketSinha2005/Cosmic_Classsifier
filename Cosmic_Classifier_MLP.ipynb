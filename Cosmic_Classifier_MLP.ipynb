{
 "cells": [
  {
   "cell_type": "code",
   "execution_count": 1,
   "id": "c929f44d-e4b4-491c-a590-fbe6226c1d64",
   "metadata": {},
   "outputs": [],
   "source": [
    "import os\n",
    "import pandas as pd\n",
    "import numpy as np\n",
    "from sklearn.metrics import accuracy_score\n",
    "from sklearn.preprocessing import OneHotEncoder\n",
    "import tensorflow as tf\n",
    "from tensorflow import keras\n",
    "from tensorflow import random"
   ]
  },
  {
   "cell_type": "code",
   "execution_count": 2,
   "id": "3e7f7123-28ae-46df-bb66-710b5e4aecd1",
   "metadata": {},
   "outputs": [],
   "source": [
    "pwd = os.getcwd()\n",
    "filepath_1 = os.path.join(pwd, \"Modified_datasets\\\\X_train.csv\")\n",
    "filepath_2 = os.path.join(pwd, \"Modified_datasets\\\\X_valid.csv\")\n",
    "filepath_3 = os.path.join(pwd, \"Modified_datasets\\\\y_train.csv\")\n",
    "filepath_4 = os.path.join(pwd, \"Modified_datasets\\\\y_valid.csv\")\n",
    "filepath_5 = os.path.join(pwd, \"Modified_datasets\\\\X_test.csv\")\n",
    "filepath_6 = os.path.join(pwd, \"Datasets\\\\submission.csv\")"
   ]
  },
  {
   "cell_type": "code",
   "execution_count": 3,
   "id": "3f6166bf-dd08-4259-90b1-1954e39c7ddc",
   "metadata": {},
   "outputs": [],
   "source": [
    "X_train = pd.read_csv(filepath_1)\n",
    "X_valid = pd.read_csv(filepath_2)\n",
    "X_test = pd.read_csv(filepath_5)\n",
    "y_train = pd.read_csv(filepath_3)\n",
    "y_valid = pd.read_csv(filepath_4)\n",
    "y_test = pd.read_csv(filepath_6)"
   ]
  },
  {
   "cell_type": "code",
   "execution_count": 4,
   "id": "b8bb4bcd-f819-451f-ad04-3d7038eb5dc8",
   "metadata": {},
   "outputs": [],
   "source": [
    "random.set_seed(42)\n",
    "model = keras.Sequential([\n",
    "    keras.layers.Dense(32, activation=\"relu\"),\n",
    "    keras.layers.Dense(16, activation=\"relu\"),\n",
    "    keras.layers.Dense(8, activation=\"relu\"),\n",
    "    keras.layers.Dense(10, activation=\"softmax\")\n",
    "])\n",
    "\n",
    "optimizer = keras.optimizers.Adam(learning_rate=1e-3)\n",
    "model.compile(\n",
    "    optimizer = optimizer,\n",
    "    loss = \"sparse_categorical_crossentropy\",  \n",
    "    metrics = [\"accuracy\"]\n",
    ")"
   ]
  },
  {
   "cell_type": "code",
   "execution_count": 5,
   "id": "aba9fa8f-03eb-48ae-b2a5-7666c7141d24",
   "metadata": {},
   "outputs": [
    {
     "name": "stdout",
     "output_type": "stream",
     "text": [
      "Epoch 1/40\n",
      "\u001b[1m1500/1500\u001b[0m \u001b[32m━━━━━━━━━━━━━━━━━━━━\u001b[0m\u001b[37m\u001b[0m \u001b[1m9s\u001b[0m 5ms/step - accuracy: 0.4194 - loss: 1.6616 - val_accuracy: 0.7202 - val_loss: 0.8785\n",
      "Epoch 2/40\n",
      "\u001b[1m1500/1500\u001b[0m \u001b[32m━━━━━━━━━━━━━━━━━━━━\u001b[0m\u001b[37m\u001b[0m \u001b[1m10s\u001b[0m 4ms/step - accuracy: 0.7481 - loss: 0.8152 - val_accuracy: 0.7544 - val_loss: 0.7759\n",
      "Epoch 3/40\n",
      "\u001b[1m1500/1500\u001b[0m \u001b[32m━━━━━━━━━━━━━━━━━━━━\u001b[0m\u001b[37m\u001b[0m \u001b[1m6s\u001b[0m 4ms/step - accuracy: 0.7783 - loss: 0.7270 - val_accuracy: 0.7719 - val_loss: 0.7293\n",
      "Epoch 4/40\n",
      "\u001b[1m1500/1500\u001b[0m \u001b[32m━━━━━━━━━━━━━━━━━━━━\u001b[0m\u001b[37m\u001b[0m \u001b[1m6s\u001b[0m 4ms/step - accuracy: 0.7912 - loss: 0.6829 - val_accuracy: 0.7829 - val_loss: 0.7025\n",
      "Epoch 5/40\n",
      "\u001b[1m1500/1500\u001b[0m \u001b[32m━━━━━━━━━━━━━━━━━━━━\u001b[0m\u001b[37m\u001b[0m \u001b[1m6s\u001b[0m 4ms/step - accuracy: 0.7976 - loss: 0.6583 - val_accuracy: 0.7870 - val_loss: 0.6887\n",
      "Epoch 6/40\n",
      "\u001b[1m1500/1500\u001b[0m \u001b[32m━━━━━━━━━━━━━━━━━━━━\u001b[0m\u001b[37m\u001b[0m \u001b[1m6s\u001b[0m 4ms/step - accuracy: 0.8029 - loss: 0.6409 - val_accuracy: 0.7918 - val_loss: 0.6758\n",
      "Epoch 7/40\n",
      "\u001b[1m1500/1500\u001b[0m \u001b[32m━━━━━━━━━━━━━━━━━━━━\u001b[0m\u001b[37m\u001b[0m \u001b[1m6s\u001b[0m 4ms/step - accuracy: 0.8073 - loss: 0.6282 - val_accuracy: 0.7943 - val_loss: 0.6673\n",
      "Epoch 8/40\n",
      "\u001b[1m1500/1500\u001b[0m \u001b[32m━━━━━━━━━━━━━━━━━━━━\u001b[0m\u001b[37m\u001b[0m \u001b[1m6s\u001b[0m 4ms/step - accuracy: 0.8115 - loss: 0.6166 - val_accuracy: 0.7969 - val_loss: 0.6581\n",
      "Epoch 9/40\n",
      "\u001b[1m1500/1500\u001b[0m \u001b[32m━━━━━━━━━━━━━━━━━━━━\u001b[0m\u001b[37m\u001b[0m \u001b[1m6s\u001b[0m 4ms/step - accuracy: 0.8153 - loss: 0.6082 - val_accuracy: 0.8003 - val_loss: 0.6517\n",
      "Epoch 10/40\n",
      "\u001b[1m1500/1500\u001b[0m \u001b[32m━━━━━━━━━━━━━━━━━━━━\u001b[0m\u001b[37m\u001b[0m \u001b[1m10s\u001b[0m 4ms/step - accuracy: 0.8176 - loss: 0.6004 - val_accuracy: 0.8020 - val_loss: 0.6442\n",
      "Epoch 11/40\n",
      "\u001b[1m1500/1500\u001b[0m \u001b[32m━━━━━━━━━━━━━━━━━━━━\u001b[0m\u001b[37m\u001b[0m \u001b[1m6s\u001b[0m 4ms/step - accuracy: 0.8196 - loss: 0.5938 - val_accuracy: 0.8039 - val_loss: 0.6400\n",
      "Epoch 12/40\n",
      "\u001b[1m1500/1500\u001b[0m \u001b[32m━━━━━━━━━━━━━━━━━━━━\u001b[0m\u001b[37m\u001b[0m \u001b[1m9s\u001b[0m 4ms/step - accuracy: 0.8215 - loss: 0.5878 - val_accuracy: 0.8062 - val_loss: 0.6366\n",
      "Epoch 13/40\n",
      "\u001b[1m1500/1500\u001b[0m \u001b[32m━━━━━━━━━━━━━━━━━━━━\u001b[0m\u001b[37m\u001b[0m \u001b[1m6s\u001b[0m 4ms/step - accuracy: 0.8229 - loss: 0.5831 - val_accuracy: 0.8072 - val_loss: 0.6328\n",
      "Epoch 14/40\n",
      "\u001b[1m1500/1500\u001b[0m \u001b[32m━━━━━━━━━━━━━━━━━━━━\u001b[0m\u001b[37m\u001b[0m \u001b[1m7s\u001b[0m 4ms/step - accuracy: 0.8244 - loss: 0.5786 - val_accuracy: 0.8068 - val_loss: 0.6318\n",
      "Epoch 15/40\n",
      "\u001b[1m1500/1500\u001b[0m \u001b[32m━━━━━━━━━━━━━━━━━━━━\u001b[0m\u001b[37m\u001b[0m \u001b[1m6s\u001b[0m 4ms/step - accuracy: 0.8254 - loss: 0.5745 - val_accuracy: 0.8080 - val_loss: 0.6299\n",
      "Epoch 16/40\n",
      "\u001b[1m1500/1500\u001b[0m \u001b[32m━━━━━━━━━━━━━━━━━━━━\u001b[0m\u001b[37m\u001b[0m \u001b[1m7s\u001b[0m 4ms/step - accuracy: 0.8275 - loss: 0.5711 - val_accuracy: 0.8094 - val_loss: 0.6271\n",
      "Epoch 17/40\n",
      "\u001b[1m1500/1500\u001b[0m \u001b[32m━━━━━━━━━━━━━━━━━━━━\u001b[0m\u001b[37m\u001b[0m \u001b[1m10s\u001b[0m 4ms/step - accuracy: 0.8281 - loss: 0.5671 - val_accuracy: 0.8098 - val_loss: 0.6220\n",
      "Epoch 18/40\n",
      "\u001b[1m1500/1500\u001b[0m \u001b[32m━━━━━━━━━━━━━━━━━━━━\u001b[0m\u001b[37m\u001b[0m \u001b[1m10s\u001b[0m 4ms/step - accuracy: 0.8289 - loss: 0.5637 - val_accuracy: 0.8109 - val_loss: 0.6212\n",
      "Epoch 19/40\n",
      "\u001b[1m1500/1500\u001b[0m \u001b[32m━━━━━━━━━━━━━━━━━━━━\u001b[0m\u001b[37m\u001b[0m \u001b[1m10s\u001b[0m 4ms/step - accuracy: 0.8302 - loss: 0.5606 - val_accuracy: 0.8110 - val_loss: 0.6203\n",
      "Epoch 20/40\n",
      "\u001b[1m1500/1500\u001b[0m \u001b[32m━━━━━━━━━━━━━━━━━━━━\u001b[0m\u001b[37m\u001b[0m \u001b[1m6s\u001b[0m 4ms/step - accuracy: 0.8310 - loss: 0.5575 - val_accuracy: 0.8112 - val_loss: 0.6228\n",
      "Epoch 21/40\n",
      "\u001b[1m1500/1500\u001b[0m \u001b[32m━━━━━━━━━━━━━━━━━━━━\u001b[0m\u001b[37m\u001b[0m \u001b[1m11s\u001b[0m 4ms/step - accuracy: 0.8320 - loss: 0.5554 - val_accuracy: 0.8138 - val_loss: 0.6169\n",
      "Epoch 22/40\n",
      "\u001b[1m1500/1500\u001b[0m \u001b[32m━━━━━━━━━━━━━━━━━━━━\u001b[0m\u001b[37m\u001b[0m \u001b[1m6s\u001b[0m 4ms/step - accuracy: 0.8338 - loss: 0.5528 - val_accuracy: 0.8128 - val_loss: 0.6179\n",
      "Epoch 23/40\n",
      "\u001b[1m1500/1500\u001b[0m \u001b[32m━━━━━━━━━━━━━━━━━━━━\u001b[0m\u001b[37m\u001b[0m \u001b[1m11s\u001b[0m 4ms/step - accuracy: 0.8340 - loss: 0.5503 - val_accuracy: 0.8149 - val_loss: 0.6158\n",
      "Epoch 24/40\n",
      "\u001b[1m1500/1500\u001b[0m \u001b[32m━━━━━━━━━━━━━━━━━━━━\u001b[0m\u001b[37m\u001b[0m \u001b[1m6s\u001b[0m 4ms/step - accuracy: 0.8347 - loss: 0.5483 - val_accuracy: 0.8151 - val_loss: 0.6165\n",
      "Epoch 25/40\n",
      "\u001b[1m1500/1500\u001b[0m \u001b[32m━━━━━━━━━━━━━━━━━━━━\u001b[0m\u001b[37m\u001b[0m \u001b[1m7s\u001b[0m 4ms/step - accuracy: 0.8351 - loss: 0.5466 - val_accuracy: 0.8171 - val_loss: 0.6139\n",
      "Epoch 26/40\n",
      "\u001b[1m1500/1500\u001b[0m \u001b[32m━━━━━━━━━━━━━━━━━━━━\u001b[0m\u001b[37m\u001b[0m \u001b[1m10s\u001b[0m 4ms/step - accuracy: 0.8356 - loss: 0.5451 - val_accuracy: 0.8152 - val_loss: 0.6128\n",
      "Epoch 27/40\n",
      "\u001b[1m1500/1500\u001b[0m \u001b[32m━━━━━━━━━━━━━━━━━━━━\u001b[0m\u001b[37m\u001b[0m \u001b[1m6s\u001b[0m 4ms/step - accuracy: 0.8359 - loss: 0.5435 - val_accuracy: 0.8153 - val_loss: 0.6136\n",
      "Epoch 28/40\n",
      "\u001b[1m1500/1500\u001b[0m \u001b[32m━━━━━━━━━━━━━━━━━━━━\u001b[0m\u001b[37m\u001b[0m \u001b[1m6s\u001b[0m 4ms/step - accuracy: 0.8363 - loss: 0.5426 - val_accuracy: 0.8162 - val_loss: 0.6117\n",
      "Epoch 29/40\n",
      "\u001b[1m1500/1500\u001b[0m \u001b[32m━━━━━━━━━━━━━━━━━━━━\u001b[0m\u001b[37m\u001b[0m \u001b[1m10s\u001b[0m 4ms/step - accuracy: 0.8367 - loss: 0.5411 - val_accuracy: 0.8170 - val_loss: 0.6131\n",
      "Epoch 30/40\n",
      "\u001b[1m1500/1500\u001b[0m \u001b[32m━━━━━━━━━━━━━━━━━━━━\u001b[0m\u001b[37m\u001b[0m \u001b[1m10s\u001b[0m 4ms/step - accuracy: 0.8365 - loss: 0.5406 - val_accuracy: 0.8159 - val_loss: 0.6129\n",
      "Epoch 31/40\n",
      "\u001b[1m1500/1500\u001b[0m \u001b[32m━━━━━━━━━━━━━━━━━━━━\u001b[0m\u001b[37m\u001b[0m \u001b[1m10s\u001b[0m 4ms/step - accuracy: 0.8375 - loss: 0.5390 - val_accuracy: 0.8170 - val_loss: 0.6104\n",
      "Epoch 32/40\n",
      "\u001b[1m1500/1500\u001b[0m \u001b[32m━━━━━━━━━━━━━━━━━━━━\u001b[0m\u001b[37m\u001b[0m \u001b[1m6s\u001b[0m 4ms/step - accuracy: 0.8379 - loss: 0.5380 - val_accuracy: 0.8170 - val_loss: 0.6114\n",
      "Epoch 33/40\n",
      "\u001b[1m1500/1500\u001b[0m \u001b[32m━━━━━━━━━━━━━━━━━━━━\u001b[0m\u001b[37m\u001b[0m \u001b[1m10s\u001b[0m 4ms/step - accuracy: 0.8385 - loss: 0.5374 - val_accuracy: 0.8171 - val_loss: 0.6093\n",
      "Epoch 34/40\n",
      "\u001b[1m1500/1500\u001b[0m \u001b[32m━━━━━━━━━━━━━━━━━━━━\u001b[0m\u001b[37m\u001b[0m \u001b[1m6s\u001b[0m 4ms/step - accuracy: 0.8385 - loss: 0.5360 - val_accuracy: 0.8168 - val_loss: 0.6088\n",
      "Epoch 35/40\n",
      "\u001b[1m1500/1500\u001b[0m \u001b[32m━━━━━━━━━━━━━━━━━━━━\u001b[0m\u001b[37m\u001b[0m \u001b[1m10s\u001b[0m 4ms/step - accuracy: 0.8390 - loss: 0.5352 - val_accuracy: 0.8164 - val_loss: 0.6112\n",
      "Epoch 36/40\n",
      "\u001b[1m1500/1500\u001b[0m \u001b[32m━━━━━━━━━━━━━━━━━━━━\u001b[0m\u001b[37m\u001b[0m \u001b[1m7s\u001b[0m 4ms/step - accuracy: 0.8395 - loss: 0.5345 - val_accuracy: 0.8170 - val_loss: 0.6079\n",
      "Epoch 37/40\n",
      "\u001b[1m1500/1500\u001b[0m \u001b[32m━━━━━━━━━━━━━━━━━━━━\u001b[0m\u001b[37m\u001b[0m \u001b[1m10s\u001b[0m 4ms/step - accuracy: 0.8400 - loss: 0.5333 - val_accuracy: 0.8171 - val_loss: 0.6079\n",
      "Epoch 38/40\n",
      "\u001b[1m1500/1500\u001b[0m \u001b[32m━━━━━━━━━━━━━━━━━━━━\u001b[0m\u001b[37m\u001b[0m \u001b[1m6s\u001b[0m 4ms/step - accuracy: 0.8402 - loss: 0.5320 - val_accuracy: 0.8178 - val_loss: 0.6077\n",
      "Epoch 39/40\n",
      "\u001b[1m1500/1500\u001b[0m \u001b[32m━━━━━━━━━━━━━━━━━━━━\u001b[0m\u001b[37m\u001b[0m \u001b[1m6s\u001b[0m 4ms/step - accuracy: 0.8398 - loss: 0.5313 - val_accuracy: 0.8181 - val_loss: 0.6084\n",
      "Epoch 40/40\n",
      "\u001b[1m1500/1500\u001b[0m \u001b[32m━━━━━━━━━━━━━━━━━━━━\u001b[0m\u001b[37m\u001b[0m \u001b[1m6s\u001b[0m 4ms/step - accuracy: 0.8401 - loss: 0.5306 - val_accuracy: 0.8179 - val_loss: 0.6088\n"
     ]
    }
   ],
   "source": [
    "history = model.fit(\n",
    "    X_train, \n",
    "    y_train, \n",
    "    epochs=40, \n",
    "    batch_size=32,    \n",
    "    validation_data=(X_valid, y_valid)\n",
    ")"
   ]
  },
  {
   "cell_type": "code",
   "execution_count": 19,
   "id": "1c38c860-2fcd-410e-9a79-cebda30b9911",
   "metadata": {},
   "outputs": [],
   "source": [
    "y_test.drop([\"Planet_ID\"], axis=1, inplace=True)"
   ]
  },
  {
   "cell_type": "code",
   "execution_count": 24,
   "id": "4f0e7703-f234-4858-b275-b3dca70d7ac6",
   "metadata": {},
   "outputs": [
    {
     "name": "stdout",
     "output_type": "stream",
     "text": [
      "\u001b[1m313/313\u001b[0m \u001b[32m━━━━━━━━━━━━━━━━━━━━\u001b[0m\u001b[37m\u001b[0m \u001b[1m1s\u001b[0m 2ms/step\n",
      "Test Accuracy: 0.9119\n"
     ]
    }
   ],
   "source": [
    "predictions = model.predict(X_test)\n",
    "predicted_classes = np.argmax(predictions, axis=1)\n",
    "\n",
    "acc = accuracy_score(y_test, predicted_classes)\n",
    "print(\"Test Accuracy:\", acc)"
   ]
  }
 ],
 "metadata": {
  "kernelspec": {
   "display_name": "Python 3 (ipykernel)",
   "language": "python",
   "name": "python3"
  },
  "language_info": {
   "codemirror_mode": {
    "name": "ipython",
    "version": 3
   },
   "file_extension": ".py",
   "mimetype": "text/x-python",
   "name": "python",
   "nbconvert_exporter": "python",
   "pygments_lexer": "ipython3",
   "version": "3.12.5"
  }
 },
 "nbformat": 4,
 "nbformat_minor": 5
}
